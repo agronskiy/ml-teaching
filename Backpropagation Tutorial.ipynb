{
 "cells": [
  {
   "cell_type": "markdown",
   "metadata": {},
   "source": [
    "# A Small Explanation of Backpropagation"
   ]
  },
  {
   "cell_type": "markdown",
   "metadata": {},
   "source": [
    "## Initialization"
   ]
  },
  {
   "cell_type": "code",
   "execution_count": 1,
   "metadata": {
    "collapsed": false
   },
   "outputs": [],
   "source": [
    "import numpy as np\n",
    "from IPython.display import Image"
   ]
  },
  {
   "cell_type": "markdown",
   "metadata": {},
   "source": [
    "Want first to train one layer network which tries to predict  \n",
    "output \n",
    "$$\n",
    " y = f(\\vec x) = f(x_1, x_2, x_3)\n",
    "$$"
   ]
  },
  {
   "cell_type": "code",
   "execution_count": 2,
   "metadata": {
    "collapsed": false
   },
   "outputs": [
    {
     "data": {
      "image/png": "[encoded data removed]",
      "text/plain": [
       "<IPython.core.display.Image object>"
      ]
     },
     "execution_count": 2,
     "metadata": {
      "image/png": {
       "width": 600
      }
     },
     "output_type": "execute_result"
    }
   ],
   "source": [
    "Image( filename = \"one_layer_net.png\", width = 600 )"
   ]
  },
  {
   "cell_type": "code",
   "execution_count": 9,
   "metadata": {
    "collapsed": false
   },
   "outputs": [],
   "source": [
    "# input \n",
    "X = np.array([ [0,0,2],\n",
    "              [0,1,1],\n",
    "              [1,0,1],\n",
    "              [1,1,1] ])\n",
    "\n",
    "y = np.array([[0,0,1,1]]).T"
   ]
  },
  {
   "cell_type": "markdown",
   "metadata": {},
   "source": [
    "Now the rows of the matrix $X$ are 4 \"datapotins\":\n",
    "$$\n",
    "    X = \\begin{pmatrix}\n",
    "    x^{(1)}_1 \\; \\; x^{(1)}_2 \\; \\; x^{(1)}_3 \\\\\n",
    "    x^{(2)}_1 \\; \\; x^{(2)}_2 \\; \\; x^{(2)}_3 \\\\\n",
    "    x^{(3)}_1 \\; \\; x^{(3)}_2 \\; \\; x^{(3)}_3 \\\\\n",
    "    x^{(4)}_1 \\; \\; x^{(4)}_2 \\; \\; x^{(4)}_3 \\\\\n",
    "    \\end{pmatrix}\n",
    "      =\\begin{pmatrix} \\vec x^{(1)} \\\\ \\vec x^{(2)} \\\\ \\vec x^{(3)} \\\\ \\vec x^{(4)} \\\\ \\end{pmatrix}\n",
    "$$"
   ]
  },
  {
   "cell_type": "code",
   "execution_count": 10,
   "metadata": {
    "collapsed": false
   },
   "outputs": [
    {
     "name": "stdout",
     "output_type": "stream",
     "text": [
      "X = \n",
      "[[0 0 2]\n",
      " [0 1 1]\n",
      " [1 0 1]\n",
      " [1 1 1]]\n",
      "\n",
      "\n",
      "y = \n",
      "[[0]\n",
      " [0]\n",
      " [1]\n",
      " [1]]\n"
     ]
    }
   ],
   "source": [
    "print 'X = \\n', X\n",
    "print '\\n'\n",
    "print 'y = \\n', y"
   ]
  },
  {
   "cell_type": "markdown",
   "metadata": {},
   "source": [
    "Pay attention: obviously $f(\\vec{x})$ *might be* linear function of inputs, obviously with the first weight 1 and two others 0:\n",
    "$$\n",
    "    f(\\vec{x}) = 1 \\cdot x_1 + 0 \\cdot x_2 + 0 \\cdot x_3\n",
    "$$"
   ]
  },
  {
   "cell_type": "markdown",
   "metadata": {},
   "source": [
    "We utilize sigmoid activation function:\n",
    "$$\n",
    "    h(a) = \\frac{1}{1 + e^{-a}}\n",
    "$$"
   ]
  },
  {
   "cell_type": "code",
   "execution_count": 11,
   "metadata": {
    "collapsed": false
   },
   "outputs": [],
   "source": [
    "# sigmoid function\n",
    "def nonlin( x, deriv = False ):\n",
    "    if( deriv == True ):\n",
    "        return x * ( 1 - x )\n",
    "    return 1/( 1 + np.exp( -x ) )"
   ]
  },
  {
   "cell_type": "code",
   "execution_count": 12,
   "metadata": {
    "collapsed": false
   },
   "outputs": [],
   "source": [
    "# seed random numbers to make calculation deterministic\n",
    "np.random.seed( 1 )"
   ]
  },
  {
   "cell_type": "markdown",
   "metadata": {},
   "source": [
    "## One Layer Back-Propagation"
   ]
  },
  {
   "cell_type": "code",
   "execution_count": 13,
   "metadata": {
    "collapsed": false
   },
   "outputs": [],
   "source": [
    "# initialize weights uniformly randomly with mean 0\n",
    "syn0 = 2*np.random.random( (3,1) ) - 1"
   ]
  },
  {
   "cell_type": "markdown",
   "metadata": {},
   "source": [
    "So the weights are a vector: \n",
    "$$\n",
    "\\vec{w} = \\begin{pmatrix} w_{11}\\\\ w_{12} \\\\ w_{13} \\end{pmatrix}  \\qquad \\text{notation $w_{ji} = z_i \\to a_j$}\n",
    "$$"
   ]
  },
  {
   "cell_type": "code",
   "execution_count": 14,
   "metadata": {
    "collapsed": false
   },
   "outputs": [
    {
     "name": "stdout",
     "output_type": "stream",
     "text": [
      "[[-0.16595599]\n",
      " [ 0.44064899]\n",
      " [-0.99977125]]\n"
     ]
    }
   ],
   "source": [
    "# weights (syn stands for 'synaps' here)\n",
    "print syn0"
   ]
  },
  {
   "cell_type": "markdown",
   "metadata": {},
   "source": [
    "### Prerequisites/Refresher\n",
    "\n",
    "We assume quadratc loss: $E = \\frac{1}{2} \\Bigl(h(a_1) - y\\Bigr)^2$, this means that the initial **error** looks like\n",
    "$$\n",
    "    \\delta_1 = \\frac{\\partial E}{\\partial a_1} = h'(a_1) \\cdot \\Bigl(h(a_1) - y\\Bigr)\n",
    "$$\n",
    "\n",
    "The respecive gradient component\n",
    "$$\n",
    "    \\nabla_{ji} E \\equiv \\frac{\\partial E}{\\partial w_{ji}} = \\delta_j \\cdot z_i\n",
    "$$"
   ]
  },
  {
   "cell_type": "markdown",
   "metadata": {},
   "source": [
    "### Now Run Back-Propagation"
   ]
  },
  {
   "cell_type": "code",
   "execution_count": 9,
   "metadata": {
    "collapsed": false
   },
   "outputs": [],
   "source": [
    "# Back-propagation\n",
    "for iter in xrange( 10000 ):\n",
    "\n",
    "    # forward propagation of the result for all four \n",
    "    #  data rows simultaneously\n",
    "    l0 = X\n",
    "    l1 = nonlin( np.dot( l0, syn0 ) )\n",
    "\n",
    "    # how much did we miss?\n",
    "    l1_error = l1 - y\n",
    "\n",
    "    # multiply how much we missed by the \n",
    "    # slope of the sigmoid at the values in l1\n",
    "    l1_delta = l1_error * nonlin( l1, True )\n",
    "\n",
    "    # update weights in the direction of gradient\n",
    "    syn0 += - np.dot( l0.T, l1_delta )"
   ]
  },
  {
   "cell_type": "markdown",
   "metadata": {},
   "source": [
    "The output "
   ]
  },
  {
   "cell_type": "code",
   "execution_count": 10,
   "metadata": {
    "collapsed": false
   },
   "outputs": [
    {
     "name": "stdout",
     "output_type": "stream",
     "text": [
      "[[ 9.67299303]\n",
      " [-0.2078435 ]\n",
      " [-4.62963669]]\n"
     ]
    }
   ],
   "source": [
    "# weights\n",
    "print syn0"
   ]
  },
  {
   "cell_type": "code",
   "execution_count": 11,
   "metadata": {
    "collapsed": false
   },
   "outputs": [
    {
     "name": "stdout",
     "output_type": "stream",
     "text": [
      "[[ 0.009664  ]\n",
      " [ 0.00786466]\n",
      " [ 0.99358931]\n",
      " [ 0.99211997]]\n"
     ]
    }
   ],
   "source": [
    "# output\n",
    "l0 = X\n",
    "l1 = nonlin( np.dot( l0, syn0 ) )\n",
    "print l1"
   ]
  },
  {
   "cell_type": "markdown",
   "metadata": {},
   "source": [
    "**Works! Additional things to see:**\n",
    "- Change the speed of convergence?\n",
    "\n",
    "**Question**\n",
    "Remember that the guessed that the weights are $(1,0,0)$, why have we obtained smth else?\n",
    "\n",
    "**Answer**\n",
    "Sigmoid function as activation function. Could we use linear (i.e. identity) $h(a) = a$?\n",
    "\n",
    "Let's try!\n",
    "\n",
    "### Back-Prop with identity activation"
   ]
  },
  {
   "cell_type": "code",
   "execution_count": 12,
   "metadata": {
    "collapsed": false
   },
   "outputs": [],
   "source": [
    "# identity function\n",
    "def ident_activation( x, deriv = False ):\n",
    "    if( deriv == True ):\n",
    "        return 1\n",
    "    return x\n",
    "\n",
    "# seed random numbers to make calculation\n",
    "# deterministic (just a good practice)\n",
    "np.random.seed(1)\n",
    "\n",
    "# initialize weights randomly with mean 0\n",
    "syn0 = 2*np.random.random((3,1)) - 1\n",
    "\n",
    "for iter in xrange(10000):\n",
    "\n",
    "    # forward propagation\n",
    "    l0 = X\n",
    "    l1 = ident_activation( np.dot( l0, syn0 ) )\n",
    "    \n",
    "    # how much did we miss?\n",
    "    l1_error = l1 - y\n",
    "        \n",
    "    # multiply how much we missed by the \n",
    "    # slope of the activation at the values in l1\n",
    "    l1_delta = l1_error * ident_activation( l1, True )\n",
    "        \n",
    "    # update weights \n",
    "    syn0 += - 0.1 * np.dot( l0.T, l1_delta ) # don't ask why we need 0.1! "
   ]
  },
  {
   "cell_type": "code",
   "execution_count": 13,
   "metadata": {
    "collapsed": false
   },
   "outputs": [
    {
     "name": "stdout",
     "output_type": "stream",
     "text": [
      "[[  1.00000000e+00]\n",
      " [  5.12930596e-31]\n",
      " [ -4.44089210e-16]]\n"
     ]
    }
   ],
   "source": [
    "# weights\n",
    "print syn0"
   ]
  },
  {
   "cell_type": "code",
   "execution_count": 14,
   "metadata": {
    "collapsed": false
   },
   "outputs": [
    {
     "name": "stdout",
     "output_type": "stream",
     "text": [
      "[[ -4.44089210e-16]\n",
      " [ -4.44089210e-16]\n",
      " [  1.00000000e+00]\n",
      " [  1.00000000e+00]]\n"
     ]
    }
   ],
   "source": [
    "# output\n",
    "l0 = X\n",
    "l1 = ident_activation( np.dot( l0, syn0 ) )\n",
    "print l1"
   ]
  },
  {
   "cell_type": "markdown",
   "metadata": {},
   "source": [
    "**Works!**\n",
    "\n",
    "So replacing the sigmoid function by identity worked **in this case** (JUST FOR DEMONSTRATION). Obviously this type of output is too unflexible!"
   ]
  },
  {
   "cell_type": "markdown",
   "metadata": {},
   "source": [
    "**Question** \n",
    "Which type of Gradient Descent was used here?"
   ]
  },
  {
   "cell_type": "markdown",
   "metadata": {},
   "source": [
    "**Answer**\n",
    "\n",
    "See how the gradients are computed and weights are updated:\n",
    "\n",
    "    l0 = X  # -----> here we use ALL data rows\n",
    "    l1 = nonlin( np.dot( l0, syn0 ) )\n",
    "\n",
    "    syn0 += - np.dot( l0.T, l1_delta )  # -----> we actually summed up all the rows!"
   ]
  },
  {
   "cell_type": "markdown",
   "metadata": {},
   "source": [
    "This product of matrix $X$ and vector $\\vec{\\delta}$ means\n",
    "\n",
    "$$\n",
    "    \\vec{w}_{k+1} = \\vec{w}_k - \\Biggl[ \n",
    "        \\nabla E \\bigl(\\vec{x}^{(1)} \\bigr) \n",
    "        + \\nabla E\\bigl(\\vec{x}^{(2)} \\bigr) \n",
    "        + \\nabla E\\bigl(\\vec{x}^{(3)} \\bigr) \n",
    "        + \\nabla E\\bigl(\\vec{x}^{(4)} \\bigr) \\Biggr]\n",
    "$$"
   ]
  },
  {
   "cell_type": "markdown",
   "metadata": {},
   "source": [
    "### Now what if we do SGD (randomly choose online Grad Descent)?"
   ]
  },
  {
   "cell_type": "code",
   "execution_count": 15,
   "metadata": {
    "collapsed": false
   },
   "outputs": [],
   "source": [
    "for iter in xrange( 50000 ):\n",
    "\n",
    "    rand_index = np.random.randint( 4 )\n",
    "    \n",
    "    # forward propagation with ONLY ONE datapoint X\n",
    "    l0 = X[rand_index].reshape(1,3)\n",
    "    l1 = nonlin( np.dot( l0, syn0 ) )  # now one-dim\n",
    "    \n",
    "    # how much did we miss?\n",
    "    l1_error = l1 - y[rand_index]  # now one-dim\n",
    "    \n",
    "    # multiply how much we missed by the \n",
    "    # slope of the sigmoid at the values in l1\n",
    "    l1_delta = l1_error * nonlin( l1, True )\n",
    "\n",
    "    # update weights\n",
    "    syn0 += -np.dot( l0.T, l1_delta )"
   ]
  },
  {
   "cell_type": "code",
   "execution_count": 16,
   "metadata": {
    "collapsed": false
   },
   "outputs": [
    {
     "name": "stdout",
     "output_type": "stream",
     "text": [
      "[[ 9.90263399]\n",
      " [-0.20864662]\n",
      " [-4.74026187]]\n"
     ]
    }
   ],
   "source": [
    "# weights\n",
    "print syn0"
   ]
  },
  {
   "cell_type": "code",
   "execution_count": 17,
   "metadata": {
    "collapsed": false
   },
   "outputs": [
    {
     "name": "stdout",
     "output_type": "stream",
     "text": [
      "[[ 0.0086607 ]\n",
      " [ 0.00704121]\n",
      " [ 0.99430453]\n",
      " [ 0.99299238]]\n"
     ]
    }
   ],
   "source": [
    "# output\n",
    "l0 = X\n",
    "l1 = nonlin( np.dot( l0, syn0 ) )\n",
    "print l1"
   ]
  },
  {
   "cell_type": "markdown",
   "metadata": {},
   "source": [
    "**Works!**"
   ]
  },
  {
   "cell_type": "markdown",
   "metadata": {},
   "source": [
    "## Harder Problem — No Easy Solution"
   ]
  },
  {
   "cell_type": "code",
   "execution_count": 18,
   "metadata": {
    "collapsed": false
   },
   "outputs": [],
   "source": [
    "# input \n",
    "X = np.array([ [0,0,1],\n",
    "              [0,1,1],\n",
    "              [1,0,1],\n",
    "              [1,1,1] ])\n",
    "\n",
    "y = np.array([[0,1,1,0]]).T"
   ]
  },
  {
   "cell_type": "code",
   "execution_count": 19,
   "metadata": {
    "collapsed": false
   },
   "outputs": [
    {
     "name": "stdout",
     "output_type": "stream",
     "text": [
      "X = \n",
      "[[0 0 1]\n",
      " [0 1 1]\n",
      " [1 0 1]\n",
      " [1 1 1]]\n",
      "\n",
      "\n",
      "y = \n",
      "[[0]\n",
      " [1]\n",
      " [1]\n",
      " [0]]\n"
     ]
    }
   ],
   "source": [
    "print 'X = \\n', X\n",
    "print '\\n'\n",
    "print 'y = \\n', y"
   ]
  },
  {
   "cell_type": "markdown",
   "metadata": {},
   "source": [
    "Try to run the **one-layer** code"
   ]
  },
  {
   "cell_type": "code",
   "execution_count": 20,
   "metadata": {
    "collapsed": false
   },
   "outputs": [],
   "source": [
    "# seed random numbers to make calculation\n",
    "# deterministic (just a good practice)\n",
    "np.random.seed(1)\n",
    "\n",
    "# initialize weights randomly with mean 0\n",
    "syn0 = 2 * np.random.random((3,1)) - 1\n",
    "\n",
    "# Back-propagation\n",
    "for iter in xrange( 10000 ):\n",
    "\n",
    "    # forward propagation of the result for all four \n",
    "    #  data rows simultaneously\n",
    "    l0 = X\n",
    "    l1 = nonlin( np.dot( l0, syn0 ) )\n",
    "\n",
    "    # how much did we miss?\n",
    "    l1_error = l1 - y\n",
    "\n",
    "    # multiply how much we missed by the \n",
    "    # slope of the sigmoid at the values in l1\n",
    "    l1_delta = l1_error * nonlin( l1, True )\n",
    "\n",
    "    # update weights in the direction of gradient\n",
    "    syn0 += - np.dot( l0.T, l1_delta )"
   ]
  },
  {
   "cell_type": "code",
   "execution_count": 21,
   "metadata": {
    "collapsed": false
   },
   "outputs": [
    {
     "name": "stdout",
     "output_type": "stream",
     "text": [
      "[[ 0.5]\n",
      " [ 0.5]\n",
      " [ 0.5]\n",
      " [ 0.5]]\n"
     ]
    }
   ],
   "source": [
    "# output\n",
    "l0 = X\n",
    "l1 = nonlin( np.dot( l0, syn0 ) )\n",
    "print l1"
   ]
  },
  {
   "cell_type": "markdown",
   "metadata": {},
   "source": [
    "Looks like he puts all weights to 0?"
   ]
  },
  {
   "cell_type": "code",
   "execution_count": 22,
   "metadata": {
    "collapsed": false
   },
   "outputs": [
    {
     "name": "stdout",
     "output_type": "stream",
     "text": [
      "[[  2.08166817e-16]\n",
      " [  2.22044605e-16]\n",
      " [ -3.05311332e-16]]\n"
     ]
    }
   ],
   "source": [
    "# weights\n",
    "print syn0"
   ]
  },
  {
   "cell_type": "markdown",
   "metadata": {},
   "source": [
    "Yes, all weights 0: we can't learn such function!\n",
    "Need something more complicated: two layers?"
   ]
  },
  {
   "cell_type": "markdown",
   "metadata": {},
   "source": [
    "### Two Layers for Harder Problem\n",
    "\n",
    "We hope that two layers can learn the necessary function."
   ]
  },
  {
   "cell_type": "code",
   "execution_count": 23,
   "metadata": {
    "collapsed": false
   },
   "outputs": [
    {
     "data": {
      "image/png": "[encoded data removed]",
      "text/plain": [
       "<IPython.core.display.Image object>"
      ]
     },
     "execution_count": 23,
     "metadata": {
      "image/png": {
       "width": 600
      }
     },
     "output_type": "execute_result"
    }
   ],
   "source": [
    "Image( filename = \"two_layer_net.png\", width = 600 )"
   ]
  },
  {
   "cell_type": "code",
   "execution_count": 24,
   "metadata": {
    "collapsed": false
   },
   "outputs": [
    {
     "name": "stdout",
     "output_type": "stream",
     "text": [
      "X = \n",
      "[[0 0 1]\n",
      " [0 1 1]\n",
      " [1 0 1]\n",
      " [1 1 1]]\n",
      "\n",
      "\n",
      "y = \n",
      "[[0]\n",
      " [1]\n",
      " [1]\n",
      " [0]]\n",
      "Error STEP 0:  0.496410031903\n",
      "Error STEP 10000:  0.00858452565325\n",
      "Error STEP 20000:  0.00578945986251\n",
      "Error STEP 30000:  0.00462917677677\n",
      "Error STEP 40000:  0.00395876528027\n",
      "Error STEP 50000:  0.00351012256786\n",
      "Error STEP 60000:  0.00318350238587\n",
      "Error STEP 70000:  0.00293230634228\n",
      "Error STEP 80000:  0.00273150641821\n",
      "Error STEP 90000:  0.00256631724004\n"
     ]
    }
   ],
   "source": [
    "# input \n",
    "X = np.array([ [0,0,1],\n",
    "              [0,1,1],\n",
    "              [1,0,1],\n",
    "              [1,1,1] ])\n",
    "\n",
    "y = np.array([[0,1,1,0]]).T\n",
    "\n",
    "print 'X = \\n', X\n",
    "print '\\n'\n",
    "print 'y = \\n', y\n",
    "\n",
    "np.random.seed(1)\n",
    "\n",
    "number_hidden_neurons = 4\n",
    "\n",
    "# randomly initialize our weights with mean 0\n",
    "syn0 = 2*np.random.random( (3, number_hidden_neurons) ) - 1\n",
    "syn1 = 2*np.random.random( ( number_hidden_neurons,1 ) ) - 1\n",
    "\n",
    "for j in xrange( 100000 ):\n",
    "\n",
    "\t# Feed forward through layers 0, 1, and 2\n",
    "    l0 = X\n",
    "    l1 = nonlin( np.dot( l0, syn0 ) )\n",
    "    l2 = nonlin( np.dot( l1, syn1 ) )\n",
    "\n",
    "    # how much did we miss the target value?\n",
    "    l2_error = l2 - y\n",
    "    \n",
    "    if ( j % 10000 ) == 0:\n",
    "        print \"Error STEP \" + str( j ) + \":  \" +  str( np.mean( np.abs(l2_error) ) )\n",
    "        \n",
    "    # in what direction is the target value?\n",
    "    # were we really sure? if so, don't change too much.\n",
    "    l2_delta = l2_error * nonlin( l2, deriv = True )\n",
    "\n",
    "    # how much did each l1 value contribute to the l2 error (according to the weights)?\n",
    "    l1_error = l2_delta.dot( syn1.T )\n",
    "    \n",
    "    # in what direction is the target l1?\n",
    "    # were we really sure? if so, don't change too much.\n",
    "    l1_delta = l1_error * nonlin( l1, deriv = True )\n",
    "\n",
    "    syn1 += - l1.T.dot( l2_delta )\n",
    "    syn0 += - l0.T.dot( l1_delta )"
   ]
  },
  {
   "cell_type": "code",
   "execution_count": 25,
   "metadata": {
    "collapsed": false
   },
   "outputs": [
    {
     "name": "stdout",
     "output_type": "stream",
     "text": [
      "[[ 0.00199094]\n",
      " [ 0.99751458]\n",
      " [ 0.99771098]\n",
      " [ 0.00294418]]\n"
     ]
    }
   ],
   "source": [
    "# output\n",
    "print l2"
   ]
  },
  {
   "cell_type": "markdown",
   "metadata": {},
   "source": [
    "**Works!**\n",
    "\n",
    "<img src=\"files/success_baby.jpg\" width = \"400\">\n",
    "\n",
    "### Questions\n",
    "\n",
    "- Try to change the number of hidden neurons to 10? to 2? What happens?"
   ]
  },
  {
   "cell_type": "markdown",
   "metadata": {},
   "source": [
    "## What about Drop-Out?\n",
    "\n",
    "It switches off certain (random on each step) hidden neurons so that they don't propagate computation **forward**. This hopefully reduces some of the computation associated with them (for large nets). **During backward step** we keep them!"
   ]
  },
  {
   "cell_type": "code",
   "execution_count": 26,
   "metadata": {
    "collapsed": false
   },
   "outputs": [
    {
     "name": "stdout",
     "output_type": "stream",
     "text": [
      "X = \n",
      "[[0 0 1]\n",
      " [0 1 1]\n",
      " [1 0 1]\n",
      " [1 1 1]]\n",
      "\n",
      "\n",
      "y = \n",
      "[[0]\n",
      " [1]\n",
      " [1]\n",
      " [0]]\n"
     ]
    }
   ],
   "source": [
    "print 'X = \\n', X\n",
    "print '\\n'\n",
    "print 'y = \\n', y"
   ]
  },
  {
   "cell_type": "code",
   "execution_count": 27,
   "metadata": {
    "collapsed": false
   },
   "outputs": [
    {
     "name": "stdout",
     "output_type": "stream",
     "text": [
      "Error STEP 0:  0.49619315376\n",
      "Error STEP 10000:  0.131834498105\n",
      "Error STEP 20000:  0.00660730539334\n",
      "Error STEP 30000:  0.00526422501944\n",
      "Error STEP 40000:  0.00449259810269\n",
      "Error STEP 50000:  0.127981329241\n",
      "Error STEP 60000:  0.375855658433\n",
      "Error STEP 70000:  0.251508012642\n",
      "Error STEP 80000:  0.251371984684\n",
      "Error STEP 90000:  0.12700962344\n"
     ]
    }
   ],
   "source": [
    "np.random.seed(1)\n",
    "\n",
    "number_hidden_neurons = 4\n",
    "\n",
    "# randomly initialize our weights with mean 0\n",
    "syn0 = 2*np.random.random( ( 3, number_hidden_neurons ) ) - 1\n",
    "syn1 = 2*np.random.random( ( number_hidden_neurons, 1 ) ) - 1\n",
    "\n",
    "for j in xrange( 100000 ):\n",
    "\n",
    "    # Feed forward through layers 0, 1, and 2 \n",
    "    # WITH Drop-Out \n",
    "    \n",
    "    l0 = X\n",
    "    l1 = nonlin( np.dot( l0, syn0 ) )\n",
    "    \n",
    "    # Magic\n",
    "    l1_drop = l1\n",
    "    for k in range( len( l1 ) ):\n",
    "        if np.random.random() < 0.2:\n",
    "            l1_drop[k] = 0.0\n",
    "    \n",
    "    l2 = nonlin( np.dot( l1_drop, syn1 ) )\n",
    "\n",
    "    # how much did we miss the target value?\n",
    "    l2_error = l2 - y\n",
    "    \n",
    "    if ( j % 10000 ) == 0:\n",
    "        print \"Error STEP \" + str( j ) + \":  \" +  str( np.mean( np.abs(l2_error) ) )\n",
    "        \n",
    "    # in what direction is the target value?\n",
    "    # were we really sure? if so, don't change too much.\n",
    "    l2_delta = l2_error * nonlin( l2, deriv = True )\n",
    "\n",
    "    # how much did each l1 value contribute to the l2 error (according to the weights)?\n",
    "    l1_error = l2_delta.dot( syn1.T )\n",
    "    \n",
    "    # in what direction is the target l1?\n",
    "    # were we really sure? if so, don't change too much.\n",
    "    l1_delta = l1_error * nonlin( l1, deriv = True )\n",
    "\n",
    "    syn1 += - l1.T.dot( l2_delta )\n",
    "    syn0 += - l0.T.dot( l1_delta )"
   ]
  },
  {
   "cell_type": "markdown",
   "metadata": {},
   "source": [
    "**Notice** Obviously tries to regularize (notice error goes back to some level)! However solves correctly:"
   ]
  },
  {
   "cell_type": "code",
   "execution_count": 28,
   "metadata": {
    "collapsed": false
   },
   "outputs": [
    {
     "name": "stdout",
     "output_type": "stream",
     "text": [
      "[[ 0.0022532 ]\n",
      " [ 0.99727598]\n",
      " [ 0.99737811]\n",
      " [ 0.00336391]]\n"
     ]
    }
   ],
   "source": [
    "# output\n",
    "print l2"
   ]
  },
  {
   "cell_type": "markdown",
   "metadata": {},
   "source": [
    "*A. Gronskiy, Based on http://iamtrask.github.io/2015/07/12/basic-python-network/, revised, refactored*"
   ]
  },
  {
   "cell_type": "markdown",
   "metadata": {},
   "source": [
    "# Appendix: Additional Stuff \n",
    "\n",
    "## Tanh Activation? \n",
    "Back to one-layer, simple problem, just to demonstrate tanh (shifted and scaled to imitate 0-1 step) activation:\n",
    "\n",
    "$$\n",
    "    h(a) = \\frac{1}{2}\\Bigl(\\tanh(a) + 1\\Bigr)\n",
    "$$"
   ]
  },
  {
   "cell_type": "code",
   "execution_count": 29,
   "metadata": {
    "collapsed": false
   },
   "outputs": [
    {
     "name": "stdout",
     "output_type": "stream",
     "text": [
      "X = \n",
      "[[0 0 1]\n",
      " [0 1 1]\n",
      " [1 0 1]\n",
      " [1 1 1]]\n",
      "\n",
      "\n",
      "y = \n",
      "[[0]\n",
      " [0]\n",
      " [1]\n",
      " [1]]\n"
     ]
    }
   ],
   "source": [
    "# input \n",
    "X = np.array([ [0,0,1],\n",
    "              [0,1,1],\n",
    "              [1,0,1],\n",
    "              [1,1,1] ])\n",
    "\n",
    "y = np.array([[0,0,1,1]]).T\n",
    "\n",
    "print 'X = \\n', X\n",
    "print '\\n'\n",
    "print 'y = \\n', y\n",
    "\n",
    "# tanh function\n",
    "def tanh_activation( x, deriv = False ):\n",
    "    if( deriv == True ):\n",
    "        return 0.5 * ( 1 - x * x )\n",
    "    return 0.5 * (np.exp(x) - np.exp(-x))/( np.exp(x) + np.exp( -x ) ) + 0.5\n",
    "\n",
    "\n",
    "# seed random numbers to make calculation\n",
    "# deterministic (just a good practice)\n",
    "np.random.seed(1)\n",
    "\n",
    "# initialize weights randomly with mean 0\n",
    "syn0 = 2*np.random.random((3,1)) - 1\n",
    "\n",
    "# Back-propagation\n",
    "for iter in xrange( 30000 ):\n",
    "\n",
    "    # forward propagation of the result for all four \n",
    "    #  data rows simultaneously\n",
    "    l0 = X\n",
    "    l1 = tanh_activation( np.dot( l0, syn0 ) )\n",
    "\n",
    "    # how much did we miss?\n",
    "    l1_error = l1 - y\n",
    "\n",
    "    # multiply how much we missed by the \n",
    "    # slope of the sigmoid at the values in l1\n",
    "    l1_delta = l1_error * tanh_activation( l1, True )\n",
    "\n",
    "    # update weights in the direction of gradient\n",
    "    syn0 += - np.dot( l0.T, l1_delta )"
   ]
  },
  {
   "cell_type": "code",
   "execution_count": 30,
   "metadata": {
    "collapsed": false
   },
   "outputs": [
    {
     "name": "stdout",
     "output_type": "stream",
     "text": [
      "[[ 7.88724422]\n",
      " [-0.1875984 ]\n",
      " [-4.95679531]]\n"
     ]
    }
   ],
   "source": [
    "# Weights\n",
    "print syn0"
   ]
  },
  {
   "cell_type": "code",
   "execution_count": 31,
   "metadata": {
    "collapsed": false
   },
   "outputs": [
    {
     "name": "stdout",
     "output_type": "stream",
     "text": [
      "[[  4.94965918e-05]\n",
      " [  3.40123090e-05]\n",
      " [  9.97159360e-01]\n",
      " [  9.95871418e-01]]\n"
     ]
    }
   ],
   "source": [
    "# Output\n",
    "print l1"
   ]
  },
  {
   "cell_type": "code",
   "execution_count": null,
   "metadata": {
    "collapsed": false
   },
   "outputs": [],
   "source": []
  },
  {
   "cell_type": "code",
   "execution_count": null,
   "metadata": {
    "collapsed": false
   },
   "outputs": [],
   "source": []
  }
 ],
 "metadata": {
  "kernelspec": {
   "display_name": "Python 2",
   "language": "python",
   "name": "python2"
  },
  "language_info": {
   "codemirror_mode": {
    "name": "ipython",
    "version": 2
   },
   "file_extension": ".py",
   "mimetype": "text/x-python",
   "name": "python",
   "nbconvert_exporter": "python",
   "pygments_lexer": "ipython2",
   "version": "2.7.9"
  }
 },
 "nbformat": 4,
 "nbformat_minor": 0
}
